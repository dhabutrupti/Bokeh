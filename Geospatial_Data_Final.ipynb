{
 "cells": [
  {
   "cell_type": "code",
   "execution_count": 1,
   "metadata": {},
   "outputs": [
    {
     "name": "stderr",
     "output_type": "stream",
     "text": [
      "BokehDeprecationWarning: STAMEN_TERRAIN was deprecated in Bokeh 1.1.0 and will be removed, use get_provider(Vendors.STAMEN_TERRAIN) instead.\n"
     ]
    }
   ],
   "source": [
    "import pandas as pd\n",
    "import numpy as np \n",
    "import geopandas as gpd\n",
    "from bokeh.models.glyphs import Patches\n",
    "from bokeh.plotting import figure, save,gmap\n",
    "from bokeh.models import ColumnDataSource, HoverTool, LogColorMapper, HoverTool,GMapOptions\n",
    "import pyproj\n",
    "\n",
    "import pandas as pd   \n",
    "from bokeh.plotting import figure, output_file, show\n",
    "from bokeh.models import ColumnDataSource, Range1d,HoverTool\n",
    "from bokeh.layouts import layout,column,row\n",
    "from bokeh.palettes import Spectral3\n",
    "#from bokeh.tile_providers import CARTODBPOSITRON\n",
    "from bokeh.tile_providers import STAMEN_TERRAIN\n",
    "from pyproj import Proj, transform\n",
    "output_file('mapping_targets.html')\n",
    "\n"
   ]
  },
  {
   "cell_type": "code",
   "execution_count": 2,
   "metadata": {},
   "outputs": [],
   "source": [
    "Species=gpd.read_file(\"D:\\\\Qgis\\\\Species_IMP_MH\\\\Copy of Species_Imp_MH.shp\")\n",
    "Birds=gpd.read_file(\"D:\\\\BNHS_Project\\\\MM_B_ST\\\\MM_B_ST_Review.shp\")\n",
    "#Chirps=gpd.read_file(\"C:\\\\Users\\\\Sarvesh\\\\Downloads\\\\Dec2019SpChecklist.geojson\")\n",
    "Corals=gpd.read_file(\"C:/Users/User/Downloads/corals.geojson\")\n",
    "Mang=gpd.read_file(\"C:\\\\Users\\\\User\\\\Downloads\\\\mangupdat1.geojson\")"
   ]
  },
  {
   "cell_type": "code",
   "execution_count": 3,
   "metadata": {},
   "outputs": [],
   "source": [
    "#helper function to convert lat/long to easting/northing for mapping\n",
    "#this relies on functions from the pyproj library\n",
    "def LongLat_to_EN(long, lat):\n",
    "    try:\n",
    "      easting, northing = transform(\n",
    "        Proj(init='epsg:4326'), Proj(init='epsg:3857'), long, lat)\n",
    "      return easting, northing\n",
    "    except:\n",
    "      return None, None "
   ]
  },
  {
   "cell_type": "code",
   "execution_count": 4,
   "metadata": {},
   "outputs": [],
   "source": [
    "Species['E'], Species['N'] = zip(*Species.apply(lambda x: LongLat_to_EN(x['Long'],x['Lat']), axis=1))\n",
    "Birds['E'], Birds['N'] = zip(*Birds.apply(lambda x: LongLat_to_EN(x['Long'],x['Lat']), axis=1))\n"
   ]
  },
  {
   "cell_type": "code",
   "execution_count": 5,
   "metadata": {},
   "outputs": [],
   "source": [
    "Corals_Web = Corals.to_crs({'init': 'epsg:3857'})\n",
    "\n",
    "def getPolyCoords(row, geom, coord_type):\n",
    "    \"\"\"Returns the coordinates ('x' or 'y') of edges of a Polygon exterior\"\"\"\n",
    "\n",
    "    # Parse the exterior of the coordinate\n",
    "    exterior = row[geom].exterior\n",
    "\n",
    "    if coord_type == 'x':\n",
    "        # Get the x coordinates of the exterior\n",
    "        return list( exterior.coords.xy[0] )\n",
    "    elif coord_type == 'y':\n",
    "        # Get the y coordinates of the exterior\n",
    "        return list( exterior.coords.xy[1] )\n",
    "    \n",
    "    "
   ]
  },
  {
   "cell_type": "code",
   "execution_count": 6,
   "metadata": {},
   "outputs": [],
   "source": [
    "Mang_Web = Mang.to_crs({'init': 'epsg:3857'})\n",
    "\n",
    "def getPolyCoords(row, geom, coord_type):\n",
    "    \"\"\"Returns the coordinates ('x' or 'y') of edges of a Polygon exterior\"\"\"\n",
    "\n",
    "    # Parse the exterior of the coordinate\n",
    "    exterior = row[geom].exterior\n",
    "\n",
    "    if coord_type == 'x':\n",
    "        # Get the x coordinates of the exterior\n",
    "        return list( exterior.coords.xy[0] )\n",
    "    elif coord_type == 'y':\n",
    "        # Get the y coordinates of the exterior\n",
    "        return list( exterior.coords.xy[1] )\n",
    "    \n",
    "    "
   ]
  },
  {
   "cell_type": "code",
   "execution_count": 7,
   "metadata": {},
   "outputs": [],
   "source": [
    "Corals_Web['x'] = Corals_Web.apply(getPolyCoords, geom='geometry', coord_type='x', axis=1)\n",
    "Corals_Web['y'] = Corals_Web.apply(getPolyCoords, geom='geometry', coord_type='y', axis=1)\n",
    "\n"
   ]
  },
  {
   "cell_type": "code",
   "execution_count": 8,
   "metadata": {},
   "outputs": [],
   "source": [
    "Mang_Web['x'] = Mang_Web.apply(getPolyCoords, geom='geometry', coord_type='x', axis=1)\n",
    "Mang_Web['y'] = Mang_Web.apply(getPolyCoords, geom='geometry', coord_type='y', axis=1)\n",
    "\n"
   ]
  },
  {
   "cell_type": "code",
   "execution_count": 9,
   "metadata": {},
   "outputs": [],
   "source": [
    "x=Corals_Web['x'].tolist() \n",
    "y=Corals_Web['y'].tolist()"
   ]
  },
  {
   "cell_type": "code",
   "execution_count": 10,
   "metadata": {},
   "outputs": [],
   "source": [
    "x=Mang_Web['x'].tolist() \n",
    "y=Mang_Web['y'].tolist()"
   ]
  },
  {
   "cell_type": "code",
   "execution_count": 11,
   "metadata": {},
   "outputs": [],
   "source": [
    "Species=Species.drop('geometry', axis=1).copy()\n",
    "Species_Source = ColumnDataSource(Species)\n",
    "\n",
    "Species_hover=HoverTool()\n",
    "Species_hover.tooltips = [('line', '@Species')]\n",
    "\n"
   ]
  },
  {
   "cell_type": "code",
   "execution_count": 12,
   "metadata": {},
   "outputs": [],
   "source": [
    "Birds=Birds.drop('geometry', axis=1).copy()\n",
    "Birds_Source = ColumnDataSource(Birds)\n",
    "\n",
    "Birds_hover=HoverTool()\n",
    "Birds_hover.tooltips = [('Location', '@Location')]"
   ]
  },
  {
   "cell_type": "code",
   "execution_count": 13,
   "metadata": {},
   "outputs": [],
   "source": [
    "Corals_bokeh= Corals_Web.drop('geometry', axis=1).copy()\n",
    "Corals_Source = ColumnDataSource(Corals_bokeh)\n",
    "\n"
   ]
  },
  {
   "cell_type": "code",
   "execution_count": 14,
   "metadata": {},
   "outputs": [],
   "source": [
    "Mang_bokeh=Mang_Web.drop('geometry', axis=1).copy()\n",
    "Mang_Source = ColumnDataSource(Mang_bokeh)\n",
    "\n"
   ]
  },
  {
   "cell_type": "code",
   "execution_count": 15,
   "metadata": {},
   "outputs": [],
   "source": [
    "\n",
    "Corals_hover=HoverTool()\n",
    "Corals_hover.tooltips=[('Corals','@Name')]"
   ]
  },
  {
   "cell_type": "code",
   "execution_count": 16,
   "metadata": {},
   "outputs": [],
   "source": [
    "\n",
    "Mang_hover=HoverTool()\n",
    "Mang_hover.tooltips=[('Mangrove','@Name')]"
   ]
  },
  {
   "cell_type": "code",
   "execution_count": 17,
   "metadata": {},
   "outputs": [
    {
     "data": {
      "text/html": [
       "<div style=\"display: table;\"><div style=\"display: table-row;\"><div style=\"display: table-cell;\"><b title=\"bokeh.models.renderers.TileRenderer\">TileRenderer</b>(</div><div style=\"display: table-cell;\">id&nbsp;=&nbsp;'1038', <span id=\"1041\" style=\"cursor: pointer;\">&hellip;)</span></div></div><div class=\"1040\" style=\"display: none;\"><div style=\"display: table-cell;\"></div><div style=\"display: table-cell;\">alpha&nbsp;=&nbsp;1.0,</div></div><div class=\"1040\" style=\"display: none;\"><div style=\"display: table-cell;\"></div><div style=\"display: table-cell;\">js_event_callbacks&nbsp;=&nbsp;{},</div></div><div class=\"1040\" style=\"display: none;\"><div style=\"display: table-cell;\"></div><div style=\"display: table-cell;\">js_property_callbacks&nbsp;=&nbsp;{},</div></div><div class=\"1040\" style=\"display: none;\"><div style=\"display: table-cell;\"></div><div style=\"display: table-cell;\">level&nbsp;=&nbsp;'glyph',</div></div><div class=\"1040\" style=\"display: none;\"><div style=\"display: table-cell;\"></div><div style=\"display: table-cell;\">name&nbsp;=&nbsp;None,</div></div><div class=\"1040\" style=\"display: none;\"><div style=\"display: table-cell;\"></div><div style=\"display: table-cell;\">render_parents&nbsp;=&nbsp;True,</div></div><div class=\"1040\" style=\"display: none;\"><div style=\"display: table-cell;\"></div><div style=\"display: table-cell;\">smoothing&nbsp;=&nbsp;True,</div></div><div class=\"1040\" style=\"display: none;\"><div style=\"display: table-cell;\"></div><div style=\"display: table-cell;\">subscribed_events&nbsp;=&nbsp;[],</div></div><div class=\"1040\" style=\"display: none;\"><div style=\"display: table-cell;\"></div><div style=\"display: table-cell;\">tags&nbsp;=&nbsp;[],</div></div><div class=\"1040\" style=\"display: none;\"><div style=\"display: table-cell;\"></div><div style=\"display: table-cell;\">tile_source&nbsp;=&nbsp;WMTSTileSource(id='1001', ...),</div></div><div class=\"1040\" style=\"display: none;\"><div style=\"display: table-cell;\"></div><div style=\"display: table-cell;\">visible&nbsp;=&nbsp;True,</div></div><div class=\"1040\" style=\"display: none;\"><div style=\"display: table-cell;\"></div><div style=\"display: table-cell;\">x_range_name&nbsp;=&nbsp;'default',</div></div><div class=\"1040\" style=\"display: none;\"><div style=\"display: table-cell;\"></div><div style=\"display: table-cell;\">y_range_name&nbsp;=&nbsp;'default')</div></div></div>\n",
       "<script>\n",
       "(function() {\n",
       "  var expanded = false;\n",
       "  var ellipsis = document.getElementById(\"1041\");\n",
       "  ellipsis.addEventListener(\"click\", function() {\n",
       "    var rows = document.getElementsByClassName(\"1040\");\n",
       "    for (var i = 0; i < rows.length; i++) {\n",
       "      var el = rows[i];\n",
       "      el.style.display = expanded ? \"none\" : \"table-row\";\n",
       "    }\n",
       "    ellipsis.innerHTML = expanded ? \"&hellip;)\" : \"&lsaquo;&lsaquo;&lsaquo;\";\n",
       "    expanded = !expanded;\n",
       "  });\n",
       "})();\n",
       "</script>\n"
      ],
      "text/plain": [
       "TileRenderer(id='1038', ...)"
      ]
     },
     "execution_count": 17,
     "metadata": {},
     "output_type": "execute_result"
    }
   ],
   "source": [
    "from bokeh.models.widgets import Panel, Tabs\n",
    "from bokeh.io import output_file, show\n",
    "from bokeh.plotting import figure\n",
    "\n",
    "#left = -2150000  \n",
    "#right = 18000000\n",
    "#bottom = -5300000\n",
    "#top = 11000000\n",
    "left =8300000\n",
    "right = 8700000\n",
    "bottom =2200000\n",
    "top =2700000\n",
    "\n",
    "plot1 = figure(x_range=Range1d(left, right), y_range=Range1d(bottom, top),tools=\"pan,wheel_zoom,box_zoom,reset\",plot_width=1000, plot_height=800)\n",
    "plot1.add_tile(STAMEN_TERRAIN)\n"
   ]
  },
  {
   "cell_type": "code",
   "execution_count": 18,
   "metadata": {},
   "outputs": [],
   "source": [
    "plot1.circle(x='E', y='N', source=Species_Source, line_color='grey', fill_color='yellow')\n",
    "plot1.add_tools(Species_hover)\n",
    "plot1.axis.visible = False\n",
    "\n",
    "\n"
   ]
  },
  {
   "cell_type": "code",
   "execution_count": 19,
   "metadata": {},
   "outputs": [],
   "source": [
    "#plot2= figure(plot_width=800, plot_height=500,tools=\"pan,wheel_zoom,box_zoom,reset\")\n",
    "plot2= figure(x_range=Range1d(left, right), y_range=Range1d(bottom, top),tools=\"pan,wheel_zoom,box_zoom,reset\",plot_width=1000, plot_height=800)\n",
    "plot2.add_tile(STAMEN_TERRAIN)\n",
    "plot2.circle(x='E', y='N', source=Birds_Source, line_color='grey', fill_color='red')\n",
    "plot2.add_tools(Birds_hover) \n",
    "plot2.axis.visible = False\n",
    "#tab2 = Panel(child=plot2, title=\"Birds\") "
   ]
  },
  {
   "cell_type": "code",
   "execution_count": 20,
   "metadata": {},
   "outputs": [],
   "source": [
    "#plot2= figure(plot_width=800, plot_height=500,tools=\"pan,wheel_zoom,box_zoom,reset\")\n",
    "plot3= figure(x_range=Range1d(left, right), y_range=Range1d(bottom, top),tools=\"pan,wheel_zoom,box_zoom,reset\",plot_width=1000, plot_height=800)\n",
    "plot3.add_tile(STAMEN_TERRAIN)\n",
    "plot3.patches(xs='x', ys='y', source=Corals_Source,fill_color=\"#fb9a99\",fill_alpha=10.3)\n",
    "plot3.add_tools(Corals_hover) \n",
    "plot3.axis.visible = False\n",
    "tab3 = Panel(child=plot3, title=\"Corals\") "
   ]
  },
  {
   "cell_type": "code",
   "execution_count": 21,
   "metadata": {},
   "outputs": [],
   "source": [
    "#plot2= figure(plot_width=800, plot_height=500,tools=\"pan,wheel_zoom,box_zoom,reset\")\n",
    "plot4= figure(x_range=Range1d(left, right), y_range=Range1d(bottom, top),tools=\"pan,wheel_zoom,box_zoom,reset\",plot_width=1000, plot_height=800)\n",
    "plot4.add_tile(STAMEN_TERRAIN)\n",
    "plot4.patches(xs='x', ys='y', source=Mang_Source,fill_color=\"blue\",fill_alpha=10.3)\n",
    "plot4.add_tools(Mang_hover) \n",
    "plot4.axis.visible = False\n",
    "tab4 = Panel(child=plot4, title=\"Mangroves\") "
   ]
  },
  {
   "cell_type": "code",
   "execution_count": 22,
   "metadata": {},
   "outputs": [],
   "source": [
    "#plot2= figure(plot_width=800, plot_height=500,tools=\"pan,wheel_zoom,box_zoom,reset\")\n",
    "plot5= figure(x_range=Range1d(left, right), y_range=Range1d(bottom, top),tools=\"pan,wheel_zoom,box_zoom,reset\",plot_width=1000, plot_height=800)\n",
    "plot5.add_tile(STAMEN_TERRAIN)\n",
    "plot5.patches(xs='x', ys='y', source=Corals_Source,fill_color=\"#fb9a99\",fill_alpha=10.3)\n",
    "plot5.patches(xs='x', ys='y', source=Mang_Source,fill_color=\"blue\",fill_alpha=10.3)\n",
    "plot5.circle(x='E', y='N', source=Birds_Source, line_color='grey', fill_color='red')\n",
    "plot5.circle(x='E', y='N', source=Species_Source, line_color='grey', fill_color='yellow')\n",
    "#plot5.add_tools(Corals_hover) \n",
    "plot5.axis.visible = False\n",
    "tab5 = Panel(child=plot5, title=\"All\") "
   ]
  },
  {
   "cell_type": "code",
   "execution_count": 23,
   "metadata": {},
   "outputs": [],
   "source": [
    "#show(tabs)\n",
    "\n",
    "from bokeh.palettes import Spectral5\n",
    "from bokeh.transform import factor_cmap\n",
    "#output_file('slider.html')\n",
    "# Barplot showing no of Occorances of Species \n",
    "from bokeh.palettes import Spectral5\n"
   ]
  },
  {
   "cell_type": "code",
   "execution_count": 24,
   "metadata": {},
   "outputs": [],
   "source": [
    "from bokeh.transform import factor_cmap\n",
    "grouped = Species.groupby('Species').count()\n",
    "source = ColumnDataSource(grouped)\n",
    "Species_list= source.data['Species'].tolist()\n",
    "bar = figure(x_range=Species_list)\n",
    "bar_hover=HoverTool()\n",
    "bar_hover.tooltips = [('No of Occourance', '@Type')]\n",
    "bar.vbar(x='Species', top='Type', source=source,width=0.4)\n",
    "bar.add_tools(bar_hover)\n",
    "#show(bar) \n",
    "\n",
    "#from bokeh.layouts import gridplot\n",
    "#output_file('Dashboard.html')\n",
    "#dash = gridplot([[tabs,bar]])\n",
    "\n",
    "# show the results\n",
    "\n",
    "#show(dash)\n"
   ]
  },
  {
   "cell_type": "code",
   "execution_count": 25,
   "metadata": {},
   "outputs": [],
   "source": [
    "Type_grouped=Species.groupby('Type').count()\n",
    "Source_Type=ColumnDataSource(Type_grouped)\n",
    "Type_list=Source_Type.data['Type'].tolist()\n",
    "Y_axis= Type_grouped['Village'].tolist()\n",
    "scatter=figure(x_range=Type_list,plot_width=400, plot_height=400)\n",
    "scatter_hover=HoverTool()\n",
    "scatter_hover.tooltips = [('No of Occourance','@Type')]\n",
    "scatter.circle(x=Type_list,y=Y_axis,size=25,fill_color=\"orange\")\n",
    "scatter.add_tools(scatter_hover)\n",
    "#show(scatter)"
   ]
  },
  {
   "cell_type": "code",
   "execution_count": null,
   "metadata": {},
   "outputs": [],
   "source": []
  },
  {
   "cell_type": "code",
   "execution_count": null,
   "metadata": {},
   "outputs": [],
   "source": []
  },
  {
   "cell_type": "code",
   "execution_count": null,
   "metadata": {},
   "outputs": [],
   "source": []
  },
  {
   "cell_type": "code",
   "execution_count": 26,
   "metadata": {},
   "outputs": [
    {
     "data": {
      "text/plain": [
       "array(['Birds', 'mm', 'ST'], dtype=object)"
      ]
     },
     "execution_count": 26,
     "metadata": {},
     "output_type": "execute_result"
    }
   ],
   "source": [
    "Birds['Sps'].unique()"
   ]
  },
  {
   "cell_type": "code",
   "execution_count": 27,
   "metadata": {},
   "outputs": [],
   "source": [
    "grouped_Birds = Birds.groupby('Sps').count()\n",
    "source_grouped_Birds = ColumnDataSource(grouped_Birds)\n",
    "Birds_list= source_grouped_Birds.data['Sps'].tolist()\n",
    "bar_Birds = figure(x_range=Birds_list)\n",
    "bar_hover_Birds=HoverTool()\n",
    "bar_hover.tooltips = [('No of Occourance', '@Sps')]\n",
    "bar_Birds.vbar(x='Sps', top='Location', source=source_grouped_Birds,width=0.4)\n",
    "bar_Birds.add_tools(bar_hover_Birds)\n",
    "#show(bar) \n",
    "tab1 = Panel(child=row([plot1,bar,scatter],sizing_mode='fixed'),title=\"Species\") \n",
    "\n",
    "\n",
    "tab2 = Panel(child=row([plot2,bar_Birds],sizing_mode='fixed'), title=\"Birds\") \n",
    "\n",
    "\n",
    "tabs = Tabs(tabs=[tab1, tab2,tab3,tab4,tab5]) \n",
    "\n",
    "\n",
    "# show the results\n",
    "\n",
    "#show(dash)\n"
   ]
  },
  {
   "cell_type": "code",
   "execution_count": 28,
   "metadata": {},
   "outputs": [],
   "source": [
    "\n",
    "from bokeh.layouts import gridplot\n",
    "dash = gridplot([[tabs]])\n",
    "output_file('Dashboard.html')\n",
    "\n"
   ]
  },
  {
   "cell_type": "code",
   "execution_count": 29,
   "metadata": {},
   "outputs": [],
   "source": [
    "#from bokeh.models.widgets import CheckboxGroup\n",
    "# Create the checkbox selection element, available carriers is a  \n",
    "# list of all airlines in the data\n",
    "#carrier_selection = CheckboxGroup(labels=['Whale','Dolphin'], \n",
    "        #                          active = [0, 1])"
   ]
  },
  {
   "cell_type": "code",
   "execution_count": 30,
   "metadata": {},
   "outputs": [
    {
     "name": "stderr",
     "output_type": "stream",
     "text": [
      "WARNING:bokeh.core.validation.check:W-1005 (FIXED_SIZING_MODE): 'fixed' sizing mode requires width and height to be set: Row(id='1326', ...)\n",
      "WARNING:bokeh.core.validation.check:W-1005 (FIXED_SIZING_MODE): 'fixed' sizing mode requires width and height to be set: Row(id='1328', ...)\n"
     ]
    }
   ],
   "source": [
    "show(dash)"
   ]
  },
  {
   "cell_type": "code",
   "execution_count": null,
   "metadata": {},
   "outputs": [],
   "source": []
  },
  {
   "cell_type": "code",
   "execution_count": null,
   "metadata": {},
   "outputs": [],
   "source": [
    "from bokeh.transform import factor_cmap\n",
    "grouped = Species.groupby('Species').count()\n",
    "source = ColumnDataSource(grouped)\n",
    "Species_list= source.data['Species'].tolist()\n",
    "bar = figure(x_range=Species_list)\n",
    "bar_hover=HoverTool()\n",
    "bar_hover.tooltips = [('No of Occourance', '@Type')]\n",
    "bar.vbar(x='Species', top='Type', source=source,width=0.4)\n",
    "bar.add_tools(bar_hover)\n",
    "#show(bar) \n",
    "\n",
    "#from bokeh.layouts import gridplot\n",
    "#output_file('Dashboard.html')\n",
    "#dash = gridplot([[tabs,bar]])\n",
    "\n",
    "# show the results\n",
    "\n",
    "#show(dash)\n"
   ]
  }
 ],
 "metadata": {
  "kernelspec": {
   "display_name": "Python 3",
   "language": "python",
   "name": "python3"
  },
  "language_info": {
   "codemirror_mode": {
    "name": "ipython",
    "version": 3
   },
   "file_extension": ".py",
   "mimetype": "text/x-python",
   "name": "python",
   "nbconvert_exporter": "python",
   "pygments_lexer": "ipython3",
   "version": "3.7.4"
  }
 },
 "nbformat": 4,
 "nbformat_minor": 2
}
